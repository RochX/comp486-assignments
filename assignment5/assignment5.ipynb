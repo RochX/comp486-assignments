{
  "nbformat": 4,
  "nbformat_minor": 0,
  "metadata": {
    "colab": {
      "provenance": [],
      "authorship_tag": "ABX9TyMUKUJCUPYiq7KlA6AbAuk7",
      "include_colab_link": true
    },
    "kernelspec": {
      "name": "python3",
      "display_name": "Python 3"
    },
    "language_info": {
      "name": "python"
    }
  },
  "cells": [
    {
      "cell_type": "markdown",
      "metadata": {
        "id": "view-in-github",
        "colab_type": "text"
      },
      "source": [
        "<a href=\"https://colab.research.google.com/github/RochX/comp486-assignments/blob/main/assignment5/assignment5.ipynb\" target=\"_parent\"><img src=\"https://colab.research.google.com/assets/colab-badge.svg\" alt=\"Open In Colab\"/></a>"
      ]
    },
    {
      "cell_type": "markdown",
      "source": [
        "# Assignment 5\n",
        "Xavier Silva"
      ],
      "metadata": {
        "id": "413FEKAuo2S_"
      }
    },
    {
      "cell_type": "markdown",
      "source": [
        "## Part 1"
      ],
      "metadata": {
        "id": "4H97NZX2pU1m"
      }
    },
    {
      "cell_type": "markdown",
      "source": [
        "### Setting Up The Data\n",
        "Download the training and test data.\n",
        "Load data into csv files."
      ],
      "metadata": {
        "id": "VIQdn_r2pmOV"
      }
    },
    {
      "cell_type": "markdown",
      "source": [
        "Discover the data."
      ],
      "metadata": {
        "id": "n-lTEkFVp3Wl"
      }
    },
    {
      "cell_type": "markdown",
      "source": [
        "Scale the pixel data."
      ],
      "metadata": {
        "id": "BewCrfcrp4w4"
      }
    },
    {
      "cell_type": "markdown",
      "source": [
        "Hold out the last 4,000 images from training set for validation."
      ],
      "metadata": {
        "id": "QTxUXm-qp77d"
      }
    },
    {
      "cell_type": "markdown",
      "source": [
        "### Training Models\n",
        "Train a multiclass classifier using `SGDClassifier` and write down the score on the training set and test set."
      ],
      "metadata": {
        "id": "4B7qdnynqAa2"
      }
    },
    {
      "cell_type": "markdown",
      "source": [
        "### ANN\n",
        "Create ANN using the sequential API to train a multiclass classifier model as follows:\n",
        "1. Build the neural network with 2 dense hidden layers (300 neurons in the first hidden layer and 100 in the second).\n",
        "2. Compile the neural network with `loss = \"sparse_categorical_crossentropy\"`,\n",
        "`optimizer=\"sgd\"`, and  `metrics=\"accuracy\"`.\n",
        "3. Train the neural network.\n",
        "4. Plot the learning curves: the mean training loss and accuracy measured over each epoch, and the mean validation loss and accuracy measured at the end of each epoch.\n",
        "5. Evaluate the ANN using the test set to estimate the generalization. **Write your observations (compare the score of ANN and SGDClassifier in question 6)**\n",
        "6. Use the ANN to predict `X_new = Xtest[5:9]`. Did the ANN classify all images correctly? Prove your answer."
      ],
      "metadata": {
        "id": "tRnBeBGIqPcQ"
      }
    },
    {
      "cell_type": "markdown",
      "source": [
        "### Second ANN\n",
        "Create a new ANN using the sequential API to train a multiclass classifier model with different hyperparameters values (add more hidden layers, add more neurons in the layers, increase epoch number, change the loss function and the optimizer)\n",
        "- Evaluate the new ANN using the test set to estimate the generalization. **Write your observations (compare the score of the new ANN and the previous ANN in question 7)**"
      ],
      "metadata": {
        "id": "NMGz77SZtXNn"
      }
    },
    {
      "cell_type": "markdown",
      "source": [
        "## Part 2\n",
        "In this part you’ll use the “Data for Admission in the University” dataset from assignment 2 and assignment 4 to implement a regression ANN."
      ],
      "metadata": {
        "id": "NN1NthnPuFaw"
      }
    },
    {
      "cell_type": "markdown",
      "source": [
        "### Setting Up The Data\n",
        "Download the data and load it as a csv file."
      ],
      "metadata": {
        "id": "GllVB46SuOPD"
      }
    },
    {
      "cell_type": "markdown",
      "source": [
        "Split the data into train data (0.85) and test data (0.15)."
      ],
      "metadata": {
        "id": "CpBoJ1KDuSI0"
      }
    },
    {
      "cell_type": "markdown",
      "source": [
        "Hold out the last 50 instances from the training set for validation."
      ],
      "metadata": {
        "id": "6JSnPZeWuUM5"
      }
    },
    {
      "cell_type": "markdown",
      "source": [
        "### Creating ANN\n",
        "Create ANN using the sequential API to train a regression model to predict the chance of\n",
        "admission as follows:\n"
      ],
      "metadata": {
        "id": "Mm3sGef9uWeA"
      }
    },
    {
      "cell_type": "markdown",
      "source": [
        "Build the neural network with 3 dense hidden layers (100 neurons in each\n",
        "hidden layer)."
      ],
      "metadata": {
        "id": "cP2TbeFMus5H"
      }
    },
    {
      "cell_type": "markdown",
      "source": [
        "Compile the neural network with `loss=\"mse\"`, `optimizer=Adam`, `metrics=['mse']`"
      ],
      "metadata": {
        "id": "f4MdwCHDuzuY"
      }
    },
    {
      "cell_type": "markdown",
      "source": [
        "Train the neural network."
      ],
      "metadata": {
        "id": "pA9aYmNau43g"
      }
    },
    {
      "cell_type": "markdown",
      "source": [
        "Evaluate the ANN using the test set to estimate the generalization.\n",
        "**Write your observations (compare the result of ANN with the linear regression medels in assignment 4 part 1)**"
      ],
      "metadata": {
        "id": "iEnpF2n2u6sM"
      }
    },
    {
      "cell_type": "markdown",
      "source": [
        "Use the ANN to predict `X_new = XTest[2]` and `X_new = XTest[50]`.\n",
        "Did the ANN classify all images correctly? Prove your answer."
      ],
      "metadata": {
        "id": "IN7bxTdNu_sr"
      }
    }
  ]
}