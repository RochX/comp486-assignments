{
  "nbformat": 4,
  "nbformat_minor": 0,
  "metadata": {
    "colab": {
      "provenance": [],
      "authorship_tag": "ABX9TyMyaKkBwZFfXetNYdjwBvJu",
      "include_colab_link": true
    },
    "kernelspec": {
      "name": "python3",
      "display_name": "Python 3"
    },
    "language_info": {
      "name": "python"
    }
  },
  "cells": [
    {
      "cell_type": "markdown",
      "metadata": {
        "id": "view-in-github",
        "colab_type": "text"
      },
      "source": [
        "<a href=\"https://colab.research.google.com/github/RochX/comp486-assignments/blob/main/project/project.ipynb\" target=\"_parent\"><img src=\"https://colab.research.google.com/assets/colab-badge.svg\" alt=\"Open In Colab\"/></a>"
      ]
    },
    {
      "cell_type": "markdown",
      "source": [
        "# Machine Learning Project\n",
        "## New York City AirBNB prices"
      ],
      "metadata": {
        "id": "XU6uXaXD4O9a"
      }
    },
    {
      "cell_type": "code",
      "execution_count": 1,
      "metadata": {
        "id": "jv2nyICC4NML"
      },
      "outputs": [],
      "source": [
        "from pathlib import Path\n",
        "import pandas as pd\n",
        "import urllib.request\n",
        "\n",
        "# download the data if it is not downloaded\n",
        "if not Path(\"new_york_listings_2024.csv\").is_file():\n",
        "  # here I download the data from my personal git repo for this class instead of using Google Drive\n",
        "  url = \"https://raw.githubusercontent.com/RochX/comp486-assignments/main/project/new_york_listings_2024.csv\"\n",
        "  urllib.request.urlretrieve(url, \"new_york_listings_2024.csv\")\n",
        "\n",
        "new_york_listings_2024 = pd.read_csv(\"new_york_listings_2024.csv\")"
      ]
    },
    {
      "cell_type": "markdown",
      "source": [
        "Get some information on the data."
      ],
      "metadata": {
        "id": "3sSL9WJV8e6X"
      }
    },
    {
      "cell_type": "code",
      "source": [
        "new_york_listings_2024.info()"
      ],
      "metadata": {
        "colab": {
          "base_uri": "https://localhost:8080/"
        },
        "id": "iNfml-rQ4k-n",
        "outputId": "7ea3272a-0430-4cbf-c9ca-cf226d49c12f"
      },
      "execution_count": 2,
      "outputs": [
        {
          "output_type": "stream",
          "name": "stdout",
          "text": [
            "<class 'pandas.core.frame.DataFrame'>\n",
            "RangeIndex: 20758 entries, 0 to 20757\n",
            "Data columns (total 22 columns):\n",
            " #   Column                          Non-Null Count  Dtype  \n",
            "---  ------                          --------------  -----  \n",
            " 0   id                              20758 non-null  int64  \n",
            " 1   name                            20758 non-null  object \n",
            " 2   host_id                         20758 non-null  int64  \n",
            " 3   host_name                       20758 non-null  object \n",
            " 4   neighbourhood_group             20758 non-null  object \n",
            " 5   neighbourhood                   20758 non-null  object \n",
            " 6   latitude                        20758 non-null  float64\n",
            " 7   longitude                       20758 non-null  float64\n",
            " 8   room_type                       20758 non-null  object \n",
            " 9   price                           20758 non-null  float64\n",
            " 10  minimum_nights                  20758 non-null  int64  \n",
            " 11  number_of_reviews               20758 non-null  int64  \n",
            " 12  last_review                     20758 non-null  object \n",
            " 13  reviews_per_month               20758 non-null  float64\n",
            " 14  calculated_host_listings_count  20758 non-null  int64  \n",
            " 15  availability_365                20758 non-null  int64  \n",
            " 16  number_of_reviews_ltm           20758 non-null  int64  \n",
            " 17  license                         20758 non-null  object \n",
            " 18  rating                          20758 non-null  object \n",
            " 19  bedrooms                        20758 non-null  object \n",
            " 20  beds                            20758 non-null  int64  \n",
            " 21  baths                           20758 non-null  object \n",
            "dtypes: float64(4), int64(8), object(10)\n",
            "memory usage: 3.5+ MB\n"
          ]
        }
      ]
    },
    {
      "cell_type": "markdown",
      "source": [
        "Take a look at the categorical features listed (besides `name` and `host_name`)."
      ],
      "metadata": {
        "id": "5e1QGc_q8gvf"
      }
    },
    {
      "cell_type": "code",
      "source": [
        "for col in list(new_york_listings_2024.drop([\"name\", \"host_name\"], axis=1).select_dtypes(include=[\"object\"])):\n",
        "  if col != \"baths\":\n",
        "    print(new_york_listings_2024.value_counts(col), end=\"\\n\\n\\n\")\n",
        "  else:\n",
        "    print(new_york_listings_2024.value_counts(col))"
      ],
      "metadata": {
        "colab": {
          "base_uri": "https://localhost:8080/"
        },
        "id": "NAFnsq0t49ZP",
        "outputId": "289c6ab6-d20a-42e8-c69d-3831aafc3dcc"
      },
      "execution_count": 3,
      "outputs": [
        {
          "output_type": "stream",
          "name": "stdout",
          "text": [
            "neighbourhood_group\n",
            "Manhattan        8038\n",
            "Brooklyn         7719\n",
            "Queens           3761\n",
            "Bronx             949\n",
            "Staten Island     291\n",
            "dtype: int64\n",
            "\n",
            "\n",
            "neighbourhood\n",
            "Bedford-Stuyvesant            1586\n",
            "Harlem                        1063\n",
            "Williamsburg                   969\n",
            "Midtown                        942\n",
            "Hell's Kitchen                 867\n",
            "                              ... \n",
            "Bay Terrace, Staten Island       1\n",
            "Navy Yard                        1\n",
            "Lighthouse Hill                  1\n",
            "Chelsea, Staten Island           1\n",
            "Neponsit                         1\n",
            "Length: 221, dtype: int64\n",
            "\n",
            "\n",
            "room_type\n",
            "Entire home/apt    11549\n",
            "Private room        8804\n",
            "Shared room          293\n",
            "Hotel room           112\n",
            "dtype: int64\n",
            "\n",
            "\n",
            "last_review\n",
            "2023-09-04    326\n",
            "2023-12-03    255\n",
            "2023-12-17    244\n",
            "2023-09-05    223\n",
            "2023-11-30    212\n",
            "             ... \n",
            "2020-04-17      1\n",
            "2020-04-16      1\n",
            "2020-04-15      1\n",
            "2020-04-14      1\n",
            "2021-03-21      1\n",
            "Length: 1878, dtype: int64\n",
            "\n",
            "\n",
            "license\n",
            "No License            17569\n",
            "Exempt                 2135\n",
            "OSE-STRREG-0000068       14\n",
            "OSE-STRREG-0008664        6\n",
            "OSE-STRREG-0000437        6\n",
            "                      ...  \n",
            "OSE-STRREG-0000408        1\n",
            "OSE-STRREG-0000409        1\n",
            "OSE-STRREG-0000410        1\n",
            "OSE-STRREG-0000411        1\n",
            "ose-strreg-0001103        1\n",
            "Length: 879, dtype: int64\n",
            "\n",
            "\n",
            "rating\n",
            "No rating    3593\n",
            "5.0          2882\n",
            "4.67          517\n",
            "4.75          469\n",
            "4.80          439\n",
            "             ... \n",
            "3.87            1\n",
            "3.73            1\n",
            "3.77            1\n",
            "3.85            1\n",
            "1.75            1\n",
            "Length: 162, dtype: int64\n",
            "\n",
            "\n",
            "bedrooms\n",
            "1         13439\n",
            "2          3602\n",
            "Studio     1815\n",
            "3          1394\n",
            "4           345\n",
            "5           112\n",
            "6            29\n",
            "7             9\n",
            "9             6\n",
            "8             5\n",
            "14            1\n",
            "15            1\n",
            "dtype: int64\n",
            "\n",
            "\n",
            "baths\n",
            "1                17015\n",
            "2                 2082\n",
            "1.5               1001\n",
            "2.5                240\n",
            "3                  171\n",
            "0                   82\n",
            "4                   69\n",
            "3.5                 50\n",
            "4.5                 18\n",
            "Not specified       13\n",
            "5                    6\n",
            "6                    4\n",
            "5.5                  2\n",
            "6.5                  2\n",
            "15.5                 1\n",
            "11.5                 1\n",
            "7                    1\n",
            "dtype: int64\n"
          ]
        }
      ]
    },
    {
      "cell_type": "markdown",
      "source": [
        "We see that some of these \"categorical\" features are actually numeric except with \"missing data\" or something similar as actual data.\n",
        "These features are `rating`, `bedrooms`, and `baths`.\n",
        "We can make the following corrections for each feature:\n",
        "- `rating`: Convert `No Rating` and `New ` into `NaN`\n",
        "- `bedrooms`: Convert `Studio` into `1`. Studio apartments are basically 1 bedroom apartments, but the bed isn't in its own room.\n",
        "- `baths`: Convert `Not specified` into `NaN`.\n",
        "\n",
        "Let's clean the data in accordance to this."
      ],
      "metadata": {
        "id": "PELaZ_978qAt"
      }
    },
    {
      "cell_type": "code",
      "source": [
        "cleaned_data = new_york_listings_2024\n",
        "cleaned_data[\"rating\"] = new_york_listings_2024[\"rating\"].replace({\"No rating\": None, \"New \": None})\n",
        "cleaned_data[\"bedrooms\"] = new_york_listings_2024[\"bedrooms\"].replace({\"Studio\": \"1\"})\n",
        "cleaned_data[\"baths\"] = new_york_listings_2024[\"baths\"].replace({\"Not specified\": None})\n",
        "\n",
        "obj_to_num_cols = [\"rating\", \"bedrooms\", \"baths\"]\n",
        "cleaned_data[obj_to_num_cols] = cleaned_data[obj_to_num_cols].apply(pd.to_numeric)\n",
        "\n",
        "cleaned_data.info()"
      ],
      "metadata": {
        "colab": {
          "base_uri": "https://localhost:8080/"
        },
        "id": "NxlIcYYu-eZf",
        "outputId": "4fb575d4-8032-472d-ec13-69ccc41f97a8"
      },
      "execution_count": 5,
      "outputs": [
        {
          "output_type": "stream",
          "name": "stdout",
          "text": [
            "<class 'pandas.core.frame.DataFrame'>\n",
            "RangeIndex: 20758 entries, 0 to 20757\n",
            "Data columns (total 22 columns):\n",
            " #   Column                          Non-Null Count  Dtype  \n",
            "---  ------                          --------------  -----  \n",
            " 0   id                              20758 non-null  int64  \n",
            " 1   name                            20758 non-null  object \n",
            " 2   host_id                         20758 non-null  int64  \n",
            " 3   host_name                       20758 non-null  object \n",
            " 4   neighbourhood_group             20758 non-null  object \n",
            " 5   neighbourhood                   20758 non-null  object \n",
            " 6   latitude                        20758 non-null  float64\n",
            " 7   longitude                       20758 non-null  float64\n",
            " 8   room_type                       20758 non-null  object \n",
            " 9   price                           20758 non-null  float64\n",
            " 10  minimum_nights                  20758 non-null  int64  \n",
            " 11  number_of_reviews               20758 non-null  int64  \n",
            " 12  last_review                     20758 non-null  object \n",
            " 13  reviews_per_month               20758 non-null  float64\n",
            " 14  calculated_host_listings_count  20758 non-null  int64  \n",
            " 15  availability_365                20758 non-null  int64  \n",
            " 16  number_of_reviews_ltm           20758 non-null  int64  \n",
            " 17  license                         20758 non-null  object \n",
            " 18  rating                          17006 non-null  float64\n",
            " 19  bedrooms                        20758 non-null  int64  \n",
            " 20  beds                            20758 non-null  int64  \n",
            " 21  baths                           20745 non-null  float64\n",
            "dtypes: float64(6), int64(9), object(7)\n",
            "memory usage: 3.5+ MB\n"
          ]
        }
      ]
    },
    {
      "cell_type": "markdown",
      "source": [
        "Now that `rating`, `bedrooms`, and `baths` are numeric values, let's try creating a correlation matrix for `price`."
      ],
      "metadata": {
        "id": "9bIv24LcBtza"
      }
    },
    {
      "cell_type": "code",
      "source": [
        "cleaned_data.corr()[\"price\"]"
      ],
      "metadata": {
        "colab": {
          "base_uri": "https://localhost:8080/"
        },
        "id": "HZVywGZfAOMh",
        "outputId": "f328f777-9e1d-4749-90b2-9dc7c57d8df4"
      },
      "execution_count": 6,
      "outputs": [
        {
          "output_type": "stream",
          "name": "stderr",
          "text": [
            "<ipython-input-6-d7c83fdcafbc>:1: FutureWarning: The default value of numeric_only in DataFrame.corr is deprecated. In a future version, it will default to False. Select only valid columns or specify the value of numeric_only to silence this warning.\n",
            "  cleaned_data.corr()[\"price\"]\n"
          ]
        },
        {
          "output_type": "execute_result",
          "data": {
            "text/plain": [
              "id                                0.002372\n",
              "host_id                          -0.005987\n",
              "latitude                         -0.001143\n",
              "longitude                        -0.033460\n",
              "price                             1.000000\n",
              "minimum_nights                   -0.006527\n",
              "number_of_reviews                -0.012588\n",
              "reviews_per_month                -0.009917\n",
              "calculated_host_listings_count   -0.007333\n",
              "availability_365                  0.020151\n",
              "number_of_reviews_ltm            -0.011263\n",
              "rating                           -0.004692\n",
              "bedrooms                          0.074036\n",
              "beds                              0.066882\n",
              "baths                             0.066048\n",
              "Name: price, dtype: float64"
            ]
          },
          "metadata": {},
          "execution_count": 6
        }
      ]
    }
  ]
}