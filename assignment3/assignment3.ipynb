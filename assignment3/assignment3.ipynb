{
  "nbformat": 4,
  "nbformat_minor": 0,
  "metadata": {
    "colab": {
      "provenance": [],
      "authorship_tag": "ABX9TyP4oLCp9eT25mZdjXt3Q6jh"
    },
    "kernelspec": {
      "name": "python3",
      "display_name": "Python 3"
    },
    "language_info": {
      "name": "python"
    }
  },
  "cells": [
    {
      "cell_type": "markdown",
      "source": [
        "# Assignment 3\n",
        "## Question 1\n",
        "Download the data"
      ],
      "metadata": {
        "id": "C1i5kqRrHIPh"
      }
    },
    {
      "cell_type": "markdown",
      "source": [
        "## Question 2\n",
        "\n",
        "Convert the images into a csv file"
      ],
      "metadata": {
        "id": "ouEDVn1jOhJp"
      }
    },
    {
      "cell_type": "markdown",
      "source": [
        "## Question 3\n",
        "Use `read_csv` in `pandas` to read the CSV file and assign it to a variable and print it."
      ],
      "metadata": {
        "id": "83OfevZ1Onzx"
      }
    },
    {
      "cell_type": "markdown",
      "source": [
        "## Question 4\n",
        "Choose two methods to discover the data."
      ],
      "metadata": {
        "id": "Ti4ck_nrOwXl"
      }
    },
    {
      "cell_type": "markdown",
      "source": [
        "## Question 5\n",
        "Make sure your training data is shuffled."
      ],
      "metadata": {
        "id": "0LCDBnriO0G6"
      }
    },
    {
      "cell_type": "markdown",
      "source": [
        "## Question 6\n",
        "Separate the predictors (`rpsPredictors`) and the labels (`rpsLables`) in the training set"
      ],
      "metadata": {
        "id": "XsqeLl5uO3PF"
      }
    },
    {
      "cell_type": "markdown",
      "source": [
        "## Question 7\n",
        "Display an instance's feature vector using `matplotlib`'s `imshow()` function and\n",
        "check the label for that image. (If the picture is paper, then the label should be 1, if the\n",
        "picture is a rock, then the label should be 2, and if the picture is scissors, then the label\n",
        "should be 3)"
      ],
      "metadata": {
        "id": "tFyMnFA8O_bV"
      }
    },
    {
      "cell_type": "markdown",
      "source": [
        "## Question 8\n",
        "Train a binary classifier (a stochastic gradient descent (SGD)), to distinguish between just two classes, paper, and non-paper."
      ],
      "metadata": {
        "id": "Ryb5A0W9PJQv"
      }
    },
    {
      "cell_type": "markdown",
      "source": [
        "## Question 9\n",
        "Try to feed your model with some instants and **explain** the output."
      ],
      "metadata": {
        "id": "xwek--WsPNen"
      }
    },
    {
      "cell_type": "markdown",
      "source": [
        "## Question 10\n",
        "Use the `cross_val_score()` function to evaluate your SGDClassifier model, using $k$-fold cross-validation with five folds. **Write** your observations."
      ],
      "metadata": {
        "id": "91RWcKRtPPyU"
      }
    },
    {
      "cell_type": "markdown",
      "source": [
        "## Question 11\n",
        "Compute the confusion matrix for your classifier and **explain** the output."
      ],
      "metadata": {
        "id": "FzKrPHvIPXUx"
      }
    },
    {
      "cell_type": "markdown",
      "source": [
        "## Question 12\n",
        "Calculate precision score, recall score and F1 score."
      ],
      "metadata": {
        "id": "jbfux7rdPanB"
      }
    },
    {
      "cell_type": "markdown",
      "source": [
        "## Question 13\n",
        "Use `matplotlib` to plot precision and recall as functions of the threshold value.\n",
        "**Write** your observations."
      ],
      "metadata": {
        "id": "GamXqMy6PdI6"
      }
    },
    {
      "cell_type": "markdown",
      "source": [
        "## Question 14\n",
        "For what threshold you can get 95% precision?"
      ],
      "metadata": {
        "id": "2z5aJBIbPlYL"
      }
    },
    {
      "cell_type": "markdown",
      "source": [
        "## Question 15\n",
        "plot the ROC curve (FPR against the TPR) using `matplotlib` then Calculate the area under the curve (AUC). Is your classifier perfect? Why?"
      ],
      "metadata": {
        "id": "yyquMpK2PoT8"
      }
    },
    {
      "cell_type": "markdown",
      "source": [
        "## Question 16\n",
        "Train an SGDClassifier on a multiclass dataset and use it to make predictions."
      ],
      "metadata": {
        "id": "aQ3RU9KBPzT3"
      }
    },
    {
      "cell_type": "markdown",
      "source": [
        "## Question 17\n",
        "Plot the confusion matrix for your multiclass classifier and **explain** the output."
      ],
      "metadata": {
        "id": "2Lsma89oP2mG"
      }
    },
    {
      "cell_type": "markdown",
      "source": [
        "## Question 18\n",
        "Plot Confusion matrix with errors only, normalized by row and confusion matrix with errors only by column. **Explain one output for each.**"
      ],
      "metadata": {
        "id": "IVK8EAtmP5Gy"
      }
    }
  ]
}